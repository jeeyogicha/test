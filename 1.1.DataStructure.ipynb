{
 "cells": [
  {
   "cell_type": "markdown",
   "metadata": {},
   "source": [
    "# 1.1. Fundamental Data Structure : List, Tuple and Dictionary"
   ]
  },
  {
   "cell_type": "markdown",
   "metadata": {},
   "source": [
    "-------"
   ]
  },
  {
   "cell_type": "markdown",
   "metadata": {},
   "source": [
    "### List\n",
    "-----------"
   ]
  },
  {
   "cell_type": "code",
   "execution_count": 1,
   "metadata": {},
   "outputs": [],
   "source": [
    "l = []"
   ]
  },
  {
   "cell_type": "code",
   "execution_count": 2,
   "metadata": {},
   "outputs": [
    {
     "data": {
      "text/plain": [
       "list"
      ]
     },
     "execution_count": 2,
     "metadata": {},
     "output_type": "execute_result"
    }
   ],
   "source": [
    "type(l)"
   ]
  },
  {
   "cell_type": "code",
   "execution_count": 4,
   "metadata": {},
   "outputs": [],
   "source": [
    "L = [1,2,3,4,5,6]"
   ]
  },
  {
   "cell_type": "code",
   "execution_count": 6,
   "metadata": {},
   "outputs": [
    {
     "data": {
      "text/plain": [
       "(1, 2, 6)"
      ]
     },
     "execution_count": 6,
     "metadata": {},
     "output_type": "execute_result"
    }
   ],
   "source": [
    "L[0],L[1],L[5]"
   ]
  },
  {
   "cell_type": "code",
   "execution_count": 7,
   "metadata": {},
   "outputs": [
    {
     "data": {
      "text/plain": [
       "(6, 5, 4)"
      ]
     },
     "execution_count": 7,
     "metadata": {},
     "output_type": "execute_result"
    }
   ],
   "source": [
    "L[-1],L[-2],L[-3]"
   ]
  },
  {
   "cell_type": "code",
   "execution_count": 8,
   "metadata": {},
   "outputs": [
    {
     "data": {
      "text/plain": [
       "6"
      ]
     },
     "execution_count": 8,
     "metadata": {},
     "output_type": "execute_result"
    }
   ],
   "source": [
    "len(L)"
   ]
  },
  {
   "cell_type": "code",
   "execution_count": 10,
   "metadata": {},
   "outputs": [
    {
     "data": {
      "text/plain": [
       "[1, 2, 3, 4, 5, 6, 12, 12]"
      ]
     },
     "execution_count": 10,
     "metadata": {},
     "output_type": "execute_result"
    }
   ],
   "source": [
    "L.append(12)\n",
    "L"
   ]
  },
  {
   "cell_type": "code",
   "execution_count": 11,
   "metadata": {},
   "outputs": [
    {
     "data": {
      "text/plain": [
       "45"
      ]
     },
     "execution_count": 11,
     "metadata": {},
     "output_type": "execute_result"
    }
   ],
   "source": [
    "sum(L)"
   ]
  },
  {
   "cell_type": "code",
   "execution_count": 12,
   "metadata": {},
   "outputs": [
    {
     "data": {
      "text/plain": [
       "(12, 1)"
      ]
     },
     "execution_count": 12,
     "metadata": {},
     "output_type": "execute_result"
    }
   ],
   "source": [
    "max(L), min(L)"
   ]
  },
  {
   "cell_type": "code",
   "execution_count": 13,
   "metadata": {},
   "outputs": [
    {
     "data": {
      "text/plain": [
       "(list, int)"
      ]
     },
     "execution_count": 13,
     "metadata": {},
     "output_type": "execute_result"
    }
   ],
   "source": [
    "type(L), type(L[0])"
   ]
  },
  {
   "cell_type": "code",
   "execution_count": 15,
   "metadata": {},
   "outputs": [],
   "source": [
    "L = [1,2.0,3,4,5,\"Apple\"]"
   ]
  },
  {
   "cell_type": "code",
   "execution_count": 16,
   "metadata": {},
   "outputs": [
    {
     "data": {
      "text/plain": [
       "(float, str)"
      ]
     },
     "execution_count": 16,
     "metadata": {},
     "output_type": "execute_result"
    }
   ],
   "source": [
    "type(L[1]),type(L[5])"
   ]
  },
  {
   "cell_type": "code",
   "execution_count": 17,
   "metadata": {},
   "outputs": [],
   "source": [
    "L = [[1,2,3],[3,4,5],[5,7,9]]"
   ]
  },
  {
   "cell_type": "code",
   "execution_count": 13,
   "metadata": {},
   "outputs": [
    {
     "data": {
      "text/plain": [
       "[1, 2, 3]"
      ]
     },
     "execution_count": 13,
     "metadata": {},
     "output_type": "execute_result"
    }
   ],
   "source": [
    "L[0]"
   ]
  },
  {
   "cell_type": "code",
   "execution_count": 18,
   "metadata": {},
   "outputs": [
    {
     "data": {
      "text/plain": [
       "2"
      ]
     },
     "execution_count": 18,
     "metadata": {},
     "output_type": "execute_result"
    }
   ],
   "source": [
    "L[0][1]"
   ]
  },
  {
   "cell_type": "code",
   "execution_count": 14,
   "metadata": {},
   "outputs": [
    {
     "data": {
      "text/plain": [
       "([1, 2, 3, 2, 4, 6], {1, 2, 3, 4, 6})"
      ]
     },
     "execution_count": 14,
     "metadata": {},
     "output_type": "execute_result"
    }
   ],
   "source": [
    "L1 = [1,2,3] ; L2 = [2,4,6]\n",
    "L1+L2, set(L1+L2)"
   ]
  },
  {
   "cell_type": "code",
   "execution_count": 15,
   "metadata": {},
   "outputs": [
    {
     "data": {
      "text/plain": [
       "array([3, 6, 9])"
      ]
     },
     "execution_count": 15,
     "metadata": {},
     "output_type": "execute_result"
    }
   ],
   "source": [
    "import numpy as np\n",
    "L1 = np.array([1,2,3]); L2 = np.array([2,4,6])\n",
    "L1 + L2"
   ]
  },
  {
   "cell_type": "code",
   "execution_count": 20,
   "metadata": {},
   "outputs": [
    {
     "data": {
      "text/plain": [
       "[0, 1, 2, 3, 4, 5, 6, 7, 8, 9]"
      ]
     },
     "execution_count": 20,
     "metadata": {},
     "output_type": "execute_result"
    }
   ],
   "source": [
    "L = [i for i in range(10)]\n",
    "L"
   ]
  },
  {
   "cell_type": "code",
   "execution_count": 24,
   "metadata": {},
   "outputs": [
    {
     "data": {
      "text/plain": [
       "0.22773115768921204"
      ]
     },
     "execution_count": 24,
     "metadata": {},
     "output_type": "execute_result"
    }
   ],
   "source": [
    "random.uniform(0,1)"
   ]
  },
  {
   "cell_type": "code",
   "execution_count": 22,
   "metadata": {},
   "outputs": [
    {
     "data": {
      "text/plain": [
       "[0.2942199936912808,\n",
       " 0.8381728259123176,\n",
       " 0.4113975240981511,\n",
       " 0.9870687742229031,\n",
       " 0.07244647037616225,\n",
       " 0.3493251130509415,\n",
       " 0.5968043458543493,\n",
       " 0.4742819629252444,\n",
       " 0.04622140353523729,\n",
       " 0.4440589033329012]"
      ]
     },
     "execution_count": 22,
     "metadata": {},
     "output_type": "execute_result"
    }
   ],
   "source": [
    "import random as random\n",
    "L = [random.uniform(0,1) for k in  range(10)]\n",
    "L"
   ]
  },
  {
   "cell_type": "code",
   "execution_count": 22,
   "metadata": {},
   "outputs": [
    {
     "data": {
      "text/plain": [
       "[[0.27628847122005273, 0.8897450734835115, 0.18989122408874082],\n",
       " [0.13835865058469599, 0.7262672634594681, 0.10898554004253247],\n",
       " [0.42276719493338266, 0.11377775037902738, 0.4901096855852801]]"
      ]
     },
     "execution_count": 22,
     "metadata": {},
     "output_type": "execute_result"
    }
   ],
   "source": [
    "LL = [[random.uniform(0,1) for k in  range(3)]for l in range(3)]\n",
    "LL"
   ]
  },
  {
   "cell_type": "code",
   "execution_count": 19,
   "metadata": {},
   "outputs": [],
   "source": [
    "#import json\n",
    "#with open ('data/mylist.json', 'w')as f1:\n",
    "#    json.dump(LL,f1)"
   ]
  },
  {
   "cell_type": "markdown",
   "metadata": {},
   "source": [
    "### Tuples\n",
    "----------"
   ]
  },
  {
   "cell_type": "code",
   "execution_count": 20,
   "metadata": {},
   "outputs": [],
   "source": [
    "t = (2,3,4,5)"
   ]
  },
  {
   "cell_type": "code",
   "execution_count": 21,
   "metadata": {},
   "outputs": [
    {
     "data": {
      "text/plain": [
       "tuple"
      ]
     },
     "execution_count": 21,
     "metadata": {},
     "output_type": "execute_result"
    }
   ],
   "source": [
    "type(t)"
   ]
  },
  {
   "cell_type": "code",
   "execution_count": 22,
   "metadata": {},
   "outputs": [
    {
     "data": {
      "text/plain": [
       "3"
      ]
     },
     "execution_count": 22,
     "metadata": {},
     "output_type": "execute_result"
    }
   ],
   "source": [
    "t[1]"
   ]
  },
  {
   "cell_type": "markdown",
   "metadata": {},
   "source": [
    "### Dictionary\n",
    "---------"
   ]
  },
  {
   "cell_type": "code",
   "execution_count": 25,
   "metadata": {},
   "outputs": [],
   "source": [
    "D = dict()\n",
    "DD = {}"
   ]
  },
  {
   "cell_type": "code",
   "execution_count": 26,
   "metadata": {},
   "outputs": [
    {
     "data": {
      "text/plain": [
       "dict"
      ]
     },
     "execution_count": 26,
     "metadata": {},
     "output_type": "execute_result"
    }
   ],
   "source": [
    "type(DD)"
   ]
  },
  {
   "cell_type": "code",
   "execution_count": 27,
   "metadata": {},
   "outputs": [],
   "source": [
    "D = {\"fruit\":'apple',\n",
    "    \"vegetable\" : 'carrot',\n",
    "    \"rice\": 2.0,\n",
    "    'milk': 10}"
   ]
  },
  {
   "cell_type": "code",
   "execution_count": 28,
   "metadata": {},
   "outputs": [
    {
     "data": {
      "text/plain": [
       "dict_keys(['fruit', 'vegetable', 'rice', 'milk'])"
      ]
     },
     "execution_count": 28,
     "metadata": {},
     "output_type": "execute_result"
    }
   ],
   "source": [
    "D.keys()"
   ]
  },
  {
   "cell_type": "code",
   "execution_count": 29,
   "metadata": {},
   "outputs": [
    {
     "data": {
      "text/plain": [
       "dict_values(['apple', 'carrot', 2.0, 10])"
      ]
     },
     "execution_count": 29,
     "metadata": {},
     "output_type": "execute_result"
    }
   ],
   "source": [
    "D.values()"
   ]
  },
  {
   "cell_type": "code",
   "execution_count": 28,
   "metadata": {},
   "outputs": [
    {
     "data": {
      "text/plain": [
       "'apple'"
      ]
     },
     "execution_count": 28,
     "metadata": {},
     "output_type": "execute_result"
    }
   ],
   "source": [
    "D['fruit']"
   ]
  },
  {
   "cell_type": "code",
   "execution_count": 28,
   "metadata": {},
   "outputs": [
    {
     "name": "stdout",
     "output_type": "stream",
     "text": [
      "fruit apple\n",
      "vegetable carrot\n",
      "rice 2.0\n",
      "milk 10\n"
     ]
    }
   ],
   "source": [
    "for key,value in D.items():\n",
    "    print(key,value)"
   ]
  },
  {
   "cell_type": "code",
   "execution_count": 29,
   "metadata": {},
   "outputs": [
    {
     "data": {
      "text/plain": [
       "{'fruit': 'apple', 'vegetable': 'carrot', 'rice': 2.0, 'milk': 10, 'salt': 2.0}"
      ]
     },
     "execution_count": 29,
     "metadata": {},
     "output_type": "execute_result"
    }
   ],
   "source": [
    "D.update({\"salt\": 2.0})\n",
    "D"
   ]
  },
  {
   "cell_type": "code",
   "execution_count": 30,
   "metadata": {},
   "outputs": [
    {
     "data": {
      "text/plain": [
       "['fruit', 'vegetable', 'rice', 'milk', 'salt']"
      ]
     },
     "execution_count": 30,
     "metadata": {},
     "output_type": "execute_result"
    }
   ],
   "source": [
    "list(D)"
   ]
  },
  {
   "cell_type": "code",
   "execution_count": 31,
   "metadata": {},
   "outputs": [
    {
     "data": {
      "text/plain": [
       "['fruit', 'vegetable', 'rice', 'milk', 'salt']"
      ]
     },
     "execution_count": 31,
     "metadata": {},
     "output_type": "execute_result"
    }
   ],
   "source": [
    "list(D.keys())"
   ]
  },
  {
   "cell_type": "code",
   "execution_count": 32,
   "metadata": {},
   "outputs": [
    {
     "data": {
      "text/plain": [
       "['apple', 'carrot', 2.0, 10, 2.0]"
      ]
     },
     "execution_count": 32,
     "metadata": {},
     "output_type": "execute_result"
    }
   ],
   "source": [
    "list(D.values())"
   ]
  },
  {
   "cell_type": "code",
   "execution_count": 30,
   "metadata": {},
   "outputs": [],
   "source": [
    "DD = {}\n",
    "for item in ['A','B','C','D','E']:\n",
    "    DD.update({item:[random.uniform(0,1) for k in  range(10)]})"
   ]
  },
  {
   "cell_type": "code",
   "execution_count": 31,
   "metadata": {},
   "outputs": [
    {
     "data": {
      "text/plain": [
       "{'A': [0.19678022324579192,\n",
       "  0.6411583593455897,\n",
       "  0.756528209556855,\n",
       "  0.9710726343813104,\n",
       "  0.463024229449156,\n",
       "  0.8246720388994161,\n",
       "  0.5758784765514432,\n",
       "  0.230268601953308,\n",
       "  0.3072535676882897,\n",
       "  0.1256232927591745],\n",
       " 'B': [0.5752611929642721,\n",
       "  0.37076454167363515,\n",
       "  0.9436180419128528,\n",
       "  0.7321757962602785,\n",
       "  0.25190722601986215,\n",
       "  0.42030429509008904,\n",
       "  0.16947156771641003,\n",
       "  0.45703100374309424,\n",
       "  0.6070861143744277,\n",
       "  0.07248600436564523],\n",
       " 'C': [0.2952100755282894,\n",
       "  0.42582659732672967,\n",
       "  0.49437268617475427,\n",
       "  0.18037370828483434,\n",
       "  0.4060011289604982,\n",
       "  0.8162661117905724,\n",
       "  0.94590751996051,\n",
       "  0.10039936082743783,\n",
       "  0.13377292551930053,\n",
       "  0.3621324940579126],\n",
       " 'D': [0.5608317061091428,\n",
       "  0.2689380552766132,\n",
       "  0.18150448634399352,\n",
       "  0.9367324397354989,\n",
       "  0.5097677131240347,\n",
       "  0.9168397446020212,\n",
       "  0.3037002261841265,\n",
       "  0.035632772401223534,\n",
       "  0.6746976657791298,\n",
       "  0.9934852249197973],\n",
       " 'E': [0.6365016329060068,\n",
       "  0.3121630063014137,\n",
       "  0.560427700480116,\n",
       "  0.4541680596682365,\n",
       "  0.4143049521163512,\n",
       "  0.004915630051165798,\n",
       "  0.24084777730957985,\n",
       "  0.49825540152889747,\n",
       "  0.8506851531718543,\n",
       "  0.04008177231896948]}"
      ]
     },
     "execution_count": 31,
     "metadata": {},
     "output_type": "execute_result"
    }
   ],
   "source": [
    "DD"
   ]
  },
  {
   "cell_type": "code",
   "execution_count": 32,
   "metadata": {},
   "outputs": [],
   "source": [
    "import json\n",
    "with open ('mydata.json', 'w')as f2:\n",
    "    json.dump(DD,f2)"
   ]
  },
  {
   "cell_type": "markdown",
   "metadata": {},
   "source": [
    "### The End"
   ]
  },
  {
   "cell_type": "code",
   "execution_count": 34,
   "metadata": {},
   "outputs": [],
   "source": [
    "with open('mydata.json', 'r') as f3:\n",
    "    AA = json.load(f3)"
   ]
  },
  {
   "cell_type": "code",
   "execution_count": 35,
   "metadata": {},
   "outputs": [
    {
     "data": {
      "text/plain": [
       "{'A': [0.19678022324579192,\n",
       "  0.6411583593455897,\n",
       "  0.756528209556855,\n",
       "  0.9710726343813104,\n",
       "  0.463024229449156,\n",
       "  0.8246720388994161,\n",
       "  0.5758784765514432,\n",
       "  0.230268601953308,\n",
       "  0.3072535676882897,\n",
       "  0.1256232927591745],\n",
       " 'B': [0.5752611929642721,\n",
       "  0.37076454167363515,\n",
       "  0.9436180419128528,\n",
       "  0.7321757962602785,\n",
       "  0.25190722601986215,\n",
       "  0.42030429509008904,\n",
       "  0.16947156771641003,\n",
       "  0.45703100374309424,\n",
       "  0.6070861143744277,\n",
       "  0.07248600436564523],\n",
       " 'C': [0.2952100755282894,\n",
       "  0.42582659732672967,\n",
       "  0.49437268617475427,\n",
       "  0.18037370828483434,\n",
       "  0.4060011289604982,\n",
       "  0.8162661117905724,\n",
       "  0.94590751996051,\n",
       "  0.10039936082743783,\n",
       "  0.13377292551930053,\n",
       "  0.3621324940579126],\n",
       " 'D': [0.5608317061091428,\n",
       "  0.2689380552766132,\n",
       "  0.18150448634399352,\n",
       "  0.9367324397354989,\n",
       "  0.5097677131240347,\n",
       "  0.9168397446020212,\n",
       "  0.3037002261841265,\n",
       "  0.035632772401223534,\n",
       "  0.6746976657791298,\n",
       "  0.9934852249197973],\n",
       " 'E': [0.6365016329060068,\n",
       "  0.3121630063014137,\n",
       "  0.560427700480116,\n",
       "  0.4541680596682365,\n",
       "  0.4143049521163512,\n",
       "  0.004915630051165798,\n",
       "  0.24084777730957985,\n",
       "  0.49825540152889747,\n",
       "  0.8506851531718543,\n",
       "  0.04008177231896948]}"
      ]
     },
     "execution_count": 35,
     "metadata": {},
     "output_type": "execute_result"
    }
   ],
   "source": [
    "AA"
   ]
  },
  {
   "cell_type": "code",
   "execution_count": 33,
   "metadata": {},
   "outputs": [
    {
     "data": {
      "text/plain": [
       "{'A': [0.19678022324579192,\n",
       "  0.6411583593455897,\n",
       "  0.756528209556855,\n",
       "  0.9710726343813104,\n",
       "  0.463024229449156,\n",
       "  0.8246720388994161,\n",
       "  0.5758784765514432,\n",
       "  0.230268601953308,\n",
       "  0.3072535676882897,\n",
       "  0.1256232927591745],\n",
       " 'B': [0.5752611929642721,\n",
       "  0.37076454167363515,\n",
       "  0.9436180419128528,\n",
       "  0.7321757962602785,\n",
       "  0.25190722601986215,\n",
       "  0.42030429509008904,\n",
       "  0.16947156771641003,\n",
       "  0.45703100374309424,\n",
       "  0.6070861143744277,\n",
       "  0.07248600436564523],\n",
       " 'C': [0.2952100755282894,\n",
       "  0.42582659732672967,\n",
       "  0.49437268617475427,\n",
       "  0.18037370828483434,\n",
       "  0.4060011289604982,\n",
       "  0.8162661117905724,\n",
       "  0.94590751996051,\n",
       "  0.10039936082743783,\n",
       "  0.13377292551930053,\n",
       "  0.3621324940579126],\n",
       " 'D': [0.5608317061091428,\n",
       "  0.2689380552766132,\n",
       "  0.18150448634399352,\n",
       "  0.9367324397354989,\n",
       "  0.5097677131240347,\n",
       "  0.9168397446020212,\n",
       "  0.3037002261841265,\n",
       "  0.035632772401223534,\n",
       "  0.6746976657791298,\n",
       "  0.9934852249197973],\n",
       " 'E': [0.6365016329060068,\n",
       "  0.3121630063014137,\n",
       "  0.560427700480116,\n",
       "  0.4541680596682365,\n",
       "  0.4143049521163512,\n",
       "  0.004915630051165798,\n",
       "  0.24084777730957985,\n",
       "  0.49825540152889747,\n",
       "  0.8506851531718543,\n",
       "  0.04008177231896948]}"
      ]
     },
     "execution_count": 33,
     "metadata": {},
     "output_type": "execute_result"
    }
   ],
   "source": [
    "DD"
   ]
  }
 ],
 "metadata": {
  "kernelspec": {
   "display_name": "Python 3",
   "language": "python",
   "name": "python3"
  },
  "language_info": {
   "codemirror_mode": {
    "name": "ipython",
    "version": 3
   },
   "file_extension": ".py",
   "mimetype": "text/x-python",
   "name": "python",
   "nbconvert_exporter": "python",
   "pygments_lexer": "ipython3",
   "version": "3.7.1"
  }
 },
 "nbformat": 4,
 "nbformat_minor": 2
}
