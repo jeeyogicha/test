{
 "cells": [
  {
   "cell_type": "markdown",
   "metadata": {},
   "source": [
    "# Chapter - 1"
   ]
  },
  {
   "cell_type": "markdown",
   "metadata": {},
   "source": [
    "This is how test jupyter notebook run and edit for github.This is how test jupyter notebook run and edit for github.\n",
    "This is how test jupyter notebook run and edit for github.This is how test jupyter notebook run and edit for github.\n",
    "This is how test jupyter notebook run and edit for github.This is how test jupyter notebook run and edit for github.\n",
    "This is how test jupyter notebook run and edit for github.This is how test jupyter notebook run and edit for github.\n",
    "This is how test jupyter notebook run and edit for github.This is how test jupyter notebook run and edit for github.\n",
    "This is how test jupyter notebook run and edit for github.This is how test jupyter notebook run and edit for github.\n",
    "\n",
    "$E = MC^{2} $\n",
    "\n"
   ]
  },
  {
   "cell_type": "markdown",
   "metadata": {},
   "source": [
    "## This is Subtitle"
   ]
  },
  {
   "cell_type": "code",
   "execution_count": 1,
   "metadata": {},
   "outputs": [],
   "source": [
    "import numpy as np\n",
    "import matplotlib.pyplot as plt"
   ]
  },
  {
   "cell_type": "markdown",
   "metadata": {},
   "source": [
    "### This is Sub-Subtitle"
   ]
  },
  {
   "cell_type": "markdown",
   "metadata": {},
   "source": [
    "This is how test jupyter notebook run and edit for github.This is how test jupyter notebook run and edit for github. This is how test jupyter notebook run and edit for github.This is how test jupyter notebook run and edit for github. This is how test jupyter notebook run and edit for github.This is how test jupyter notebook run and edit for github. This is how test jupyter notebook run and edit for github.This is how test jupyter notebook run and edit for github. This is how test jupyter notebook run and edit for github.This is how test jupyter notebook run and edit for github. This is how test jupyter notebook run and edit for github.This is how test jupyter notebook run and edit for github.\n",
    "\n",
    "**This is from Internet**\n",
    "\n",
    "![img](https://tonysyu.github.io/raw_content/matplotlib-style-gallery/build/images/bmh/bar-plots.png)\n",
    "[Image Courtesy: https://tonysyu.github.io/raw_content/matplotlib-style-gallery/build/images/bmh/bar-plots.png](https://tonysyu.github.io/raw_content/matplotlib-style-gallery/build/images/bmh/bar-plots.png)"
   ]
  },
  {
   "cell_type": "code",
   "execution_count": null,
   "metadata": {},
   "outputs": [],
   "source": []
  }
 ],
 "metadata": {
  "kernelspec": {
   "display_name": "Python 3",
   "language": "python",
   "name": "python3"
  },
  "language_info": {
   "codemirror_mode": {
    "name": "ipython",
    "version": 3
   },
   "file_extension": ".py",
   "mimetype": "text/x-python",
   "name": "python",
   "nbconvert_exporter": "python",
   "pygments_lexer": "ipython3",
   "version": "3.7.3"
  }
 },
 "nbformat": 4,
 "nbformat_minor": 2
}
